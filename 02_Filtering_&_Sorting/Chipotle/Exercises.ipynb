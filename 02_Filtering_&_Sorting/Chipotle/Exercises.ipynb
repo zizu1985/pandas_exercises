{
  "nbformat": 4,
  "nbformat_minor": 0,
  "metadata": {
    "colab": {
      "name": "Exercises.ipynb",
      "version": "0.3.2",
      "provenance": []
    },
    "kernelspec": {
      "display_name": "Python 2",
      "language": "python",
      "name": "python2"
    }
  },
  "cells": [
    {
      "metadata": {
        "id": "9-xfPE0xcbaz",
        "colab_type": "text"
      },
      "cell_type": "markdown",
      "source": [
        "# Ex1 - Filtering and Sorting Data"
      ]
    },
    {
      "metadata": {
        "id": "td2U723Scba2",
        "colab_type": "text"
      },
      "cell_type": "markdown",
      "source": [
        "This time we are going to pull data directly from the internet.\n",
        "Special thanks to: https://github.com/justmarkham for sharing the dataset and materials.\n",
        "\n",
        "### Step 1. Import the necessary libraries"
      ]
    },
    {
      "metadata": {
        "id": "dqqmD-pncba4",
        "colab_type": "code",
        "colab": {}
      },
      "cell_type": "code",
      "source": [
        "import pandas as pd"
      ],
      "execution_count": 0,
      "outputs": []
    },
    {
      "metadata": {
        "id": "m1aITSEDcbbC",
        "colab_type": "text"
      },
      "cell_type": "markdown",
      "source": [
        "### Step 2. Import the dataset from this [address](https://raw.githubusercontent.com/justmarkham/DAT8/master/data/chipotle.tsv). "
      ]
    },
    {
      "metadata": {
        "id": "6PCXKP3icbbE",
        "colab_type": "text"
      },
      "cell_type": "markdown",
      "source": [
        "### Step 3. Assign it to a variable called chipo."
      ]
    },
    {
      "metadata": {
        "id": "UWviOQojcbbF",
        "colab_type": "code",
        "colab": {
          "base_uri": "https://localhost:8080/",
          "height": 187
        },
        "outputId": "4ce82b0f-687d-4a37-9648-f70a0e1b917b"
      },
      "cell_type": "code",
      "source": [
        "datapath = r'https://raw.githubusercontent.com/justmarkham/DAT8/master/data/chipotle.tsv'\n",
        "chipo = pd.read_csv(datapath,sep='\\t')\n",
        "chipo.info()"
      ],
      "execution_count": 4,
      "outputs": [
        {
          "output_type": "stream",
          "text": [
            "<class 'pandas.core.frame.DataFrame'>\n",
            "RangeIndex: 4622 entries, 0 to 4621\n",
            "Data columns (total 5 columns):\n",
            "order_id              4622 non-null int64\n",
            "quantity              4622 non-null int64\n",
            "item_name             4622 non-null object\n",
            "choice_description    3376 non-null object\n",
            "item_price            4622 non-null object\n",
            "dtypes: int64(2), object(3)\n",
            "memory usage: 180.6+ KB\n"
          ],
          "name": "stdout"
        }
      ]
    },
    {
      "metadata": {
        "id": "GhF3ybUBcbbL",
        "colab_type": "text"
      },
      "cell_type": "markdown",
      "source": [
        "### Step 4. How many products cost more than $10.00?"
      ]
    },
    {
      "metadata": {
        "id": "0oTRRfB5cbbM",
        "colab_type": "code",
        "colab": {
          "base_uri": "https://localhost:8080/",
          "height": 34
        },
        "outputId": "6dffe31f-173e-40b0-e6fe-1dad3eccaf2e"
      },
      "cell_type": "code",
      "source": [
        "chipo['item_price_no'] = chipo.item_price.apply(lambda x: float(x.lstrip('$')))\n",
        "chipo[chipo['item_price_no'] > 10].shape[0]"
      ],
      "execution_count": 31,
      "outputs": [
        {
          "output_type": "execute_result",
          "data": {
            "text/plain": [
              "1130"
            ]
          },
          "metadata": {
            "tags": []
          },
          "execution_count": 31
        }
      ]
    },
    {
      "metadata": {
        "id": "Cj6fIF8-cbbU",
        "colab_type": "text"
      },
      "cell_type": "markdown",
      "source": [
        "### Step 5. What is the price of each item? \n",
        "###### print a data frame with only two columns item_name and item_price"
      ]
    },
    {
      "metadata": {
        "id": "TsOlWMaScbbW",
        "colab_type": "code",
        "colab": {}
      },
      "cell_type": "code",
      "source": [
        ""
      ],
      "execution_count": 0,
      "outputs": []
    },
    {
      "metadata": {
        "id": "VAIxCXTDcbba",
        "colab_type": "text"
      },
      "cell_type": "markdown",
      "source": [
        "### Step 6. Sort by the name of the item"
      ]
    },
    {
      "metadata": {
        "id": "tYzlsHTOcbbd",
        "colab_type": "code",
        "colab": {}
      },
      "cell_type": "code",
      "source": [
        ""
      ],
      "execution_count": 0,
      "outputs": []
    },
    {
      "metadata": {
        "id": "_Q1CdeqScbbl",
        "colab_type": "text"
      },
      "cell_type": "markdown",
      "source": [
        "### Step 7. What was the quantity of the most expensive item ordered?"
      ]
    },
    {
      "metadata": {
        "id": "TnXuflyxcbbm",
        "colab_type": "code",
        "colab": {}
      },
      "cell_type": "code",
      "source": [
        ""
      ],
      "execution_count": 0,
      "outputs": []
    },
    {
      "metadata": {
        "id": "7OWgk5PKcbbv",
        "colab_type": "text"
      },
      "cell_type": "markdown",
      "source": [
        "### Step 8. How many times were a Veggie Salad Bowl ordered?"
      ]
    },
    {
      "metadata": {
        "id": "b6WmHG0ecbb0",
        "colab_type": "code",
        "colab": {}
      },
      "cell_type": "code",
      "source": [
        ""
      ],
      "execution_count": 0,
      "outputs": []
    },
    {
      "metadata": {
        "id": "71IZcalXcbcB",
        "colab_type": "text"
      },
      "cell_type": "markdown",
      "source": [
        "### Step 9. How many times people orderd more than one Canned Soda?"
      ]
    },
    {
      "metadata": {
        "id": "DqHCKppjcbcG",
        "colab_type": "code",
        "colab": {}
      },
      "cell_type": "code",
      "source": [
        ""
      ],
      "execution_count": 0,
      "outputs": []
    }
  ]
}