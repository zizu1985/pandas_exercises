{
  "nbformat": 4,
  "nbformat_minor": 0,
  "metadata": {
    "colab": {
      "name": "Exercises.ipynb",
      "version": "0.3.2",
      "provenance": []
    },
    "kernelspec": {
      "display_name": "Python [default]",
      "language": "python",
      "name": "python2"
    }
  },
  "cells": [
    {
      "metadata": {
        "id": "NQZmdsYxM9s-",
        "colab_type": "text"
      },
      "cell_type": "markdown",
      "source": [
        "# Ex2 - Filtering and Sorting Data"
      ]
    },
    {
      "metadata": {
        "id": "wkOmvEQNM9tA",
        "colab_type": "text"
      },
      "cell_type": "markdown",
      "source": [
        "This time we are going to pull data directly from the internet.\n",
        "\n",
        "### Step 1. Import the necessary libraries"
      ]
    },
    {
      "metadata": {
        "id": "ryyUdhBtM9tC",
        "colab_type": "code",
        "colab": {}
      },
      "cell_type": "code",
      "source": [
        "import pandas as pd\n",
        "import numpy as np"
      ],
      "execution_count": 0,
      "outputs": []
    },
    {
      "metadata": {
        "id": "JS5RyV9hM9tF",
        "colab_type": "text"
      },
      "cell_type": "markdown",
      "source": [
        "### Step 2. Import the dataset from this [address](https://raw.githubusercontent.com/guipsamora/pandas_exercises/master/02_Filtering_%26_Sorting/Euro12/Euro_2012_stats_TEAM.csv). "
      ]
    },
    {
      "metadata": {
        "id": "7r28ntmvM9tG",
        "colab_type": "text"
      },
      "cell_type": "markdown",
      "source": [
        "### Step 3. Assign it to a variable called euro12."
      ]
    },
    {
      "metadata": {
        "id": "CVciW1iUM9tH",
        "colab_type": "code",
        "outputId": "16c4f9d3-bd52-410d-877a-4a8cb55b6845",
        "colab": {
          "base_uri": "https://localhost:8080/",
          "height": 1421
        }
      },
      "cell_type": "code",
      "source": [
        "euro12 = pd.read_csv(r'https://raw.githubusercontent.com/guipsamora/pandas_exercises/master/02_Filtering_%26_Sorting/Euro12/Euro_2012_stats_TEAM.csv')\n",
        "print(euro12.info())\n",
        "euro12_no_goals = euro12.drop(['Goals'],axis=1)\n",
        "# Jest ok, bo Goals to columna. Proba usuniecia jako wiersz konczy sie bledem. \n",
        "# axis z default jest 0 \n",
        "print(euro12_no_goals.info())"
      ],
      "execution_count": 0,
      "outputs": [
        {
          "output_type": "stream",
          "text": [
            "<class 'pandas.core.frame.DataFrame'>\n",
            "RangeIndex: 16 entries, 0 to 15\n",
            "Data columns (total 35 columns):\n",
            "Team                          16 non-null object\n",
            "Goals                         16 non-null int64\n",
            "Shots on target               16 non-null int64\n",
            "Shots off target              16 non-null int64\n",
            "Shooting Accuracy             16 non-null object\n",
            "% Goals-to-shots              16 non-null object\n",
            "Total shots (inc. Blocked)    16 non-null int64\n",
            "Hit Woodwork                  16 non-null int64\n",
            "Penalty goals                 16 non-null int64\n",
            "Penalties not scored          16 non-null int64\n",
            "Headed goals                  16 non-null int64\n",
            "Passes                        16 non-null int64\n",
            "Passes completed              16 non-null int64\n",
            "Passing Accuracy              16 non-null object\n",
            "Touches                       16 non-null int64\n",
            "Crosses                       16 non-null int64\n",
            "Dribbles                      16 non-null int64\n",
            "Corners Taken                 16 non-null int64\n",
            "Tackles                       16 non-null int64\n",
            "Clearances                    16 non-null int64\n",
            "Interceptions                 16 non-null int64\n",
            "Clearances off line           15 non-null float64\n",
            "Clean Sheets                  16 non-null int64\n",
            "Blocks                        16 non-null int64\n",
            "Goals conceded                16 non-null int64\n",
            "Saves made                    16 non-null int64\n",
            "Saves-to-shots ratio          16 non-null object\n",
            "Fouls Won                     16 non-null int64\n",
            "Fouls Conceded                16 non-null int64\n",
            "Offsides                      16 non-null int64\n",
            "Yellow Cards                  16 non-null int64\n",
            "Red Cards                     16 non-null int64\n",
            "Subs on                       16 non-null int64\n",
            "Subs off                      16 non-null int64\n",
            "Players Used                  16 non-null int64\n",
            "dtypes: float64(1), int64(29), object(5)\n",
            "memory usage: 4.4+ KB\n",
            "None\n",
            "<class 'pandas.core.frame.DataFrame'>\n",
            "RangeIndex: 16 entries, 0 to 15\n",
            "Data columns (total 34 columns):\n",
            "Team                          16 non-null object\n",
            "Shots on target               16 non-null int64\n",
            "Shots off target              16 non-null int64\n",
            "Shooting Accuracy             16 non-null object\n",
            "% Goals-to-shots              16 non-null object\n",
            "Total shots (inc. Blocked)    16 non-null int64\n",
            "Hit Woodwork                  16 non-null int64\n",
            "Penalty goals                 16 non-null int64\n",
            "Penalties not scored          16 non-null int64\n",
            "Headed goals                  16 non-null int64\n",
            "Passes                        16 non-null int64\n",
            "Passes completed              16 non-null int64\n",
            "Passing Accuracy              16 non-null object\n",
            "Touches                       16 non-null int64\n",
            "Crosses                       16 non-null int64\n",
            "Dribbles                      16 non-null int64\n",
            "Corners Taken                 16 non-null int64\n",
            "Tackles                       16 non-null int64\n",
            "Clearances                    16 non-null int64\n",
            "Interceptions                 16 non-null int64\n",
            "Clearances off line           15 non-null float64\n",
            "Clean Sheets                  16 non-null int64\n",
            "Blocks                        16 non-null int64\n",
            "Goals conceded                16 non-null int64\n",
            "Saves made                    16 non-null int64\n",
            "Saves-to-shots ratio          16 non-null object\n",
            "Fouls Won                     16 non-null int64\n",
            "Fouls Conceded                16 non-null int64\n",
            "Offsides                      16 non-null int64\n",
            "Yellow Cards                  16 non-null int64\n",
            "Red Cards                     16 non-null int64\n",
            "Subs on                       16 non-null int64\n",
            "Subs off                      16 non-null int64\n",
            "Players Used                  16 non-null int64\n",
            "dtypes: float64(1), int64(28), object(5)\n",
            "memory usage: 4.3+ KB\n",
            "None\n"
          ],
          "name": "stdout"
        }
      ]
    },
    {
      "metadata": {
        "id": "cq9Z9H8UM9tJ",
        "colab_type": "text"
      },
      "cell_type": "markdown",
      "source": [
        "### Step 4. Select only the Goal column."
      ]
    },
    {
      "metadata": {
        "id": "QWub7xq8M9tK",
        "colab_type": "code",
        "outputId": "5544f4ad-b793-41e5-b1b7-5a8a5619047c",
        "colab": {
          "base_uri": "https://localhost:8080/",
          "height": 180
        }
      },
      "cell_type": "code",
      "source": [
        "euro12.Goals\n",
        "#euro12.Goals.isnull().value_counts()"
      ],
      "execution_count": 1,
      "outputs": [
        {
          "output_type": "error",
          "ename": "NameError",
          "evalue": "ignored",
          "traceback": [
            "\u001b[0;31m\u001b[0m",
            "\u001b[0;31mNameError\u001b[0mTraceback (most recent call last)",
            "\u001b[0;32m<ipython-input-1-792aa54455ee>\u001b[0m in \u001b[0;36m<module>\u001b[0;34m()\u001b[0m\n\u001b[0;32m----> 1\u001b[0;31m \u001b[0meuro12\u001b[0m\u001b[0;34m.\u001b[0m\u001b[0mGoals\u001b[0m\u001b[0;34m\u001b[0m\u001b[0m\n\u001b[0m\u001b[1;32m      2\u001b[0m \u001b[0;31m#euro12.Goals.isnull().value_counts()\u001b[0m\u001b[0;34m\u001b[0m\u001b[0;34m\u001b[0m\u001b[0m\n",
            "\u001b[0;31mNameError\u001b[0m: name 'euro12' is not defined"
          ]
        }
      ]
    },
    {
      "metadata": {
        "id": "hS5dCfZ7GPDd",
        "colab_type": "code",
        "outputId": "707c58cd-45a0-49a5-9787-9e47b1ba5bd5",
        "colab": {
          "base_uri": "https://localhost:8080/",
          "height": 485
        }
      },
      "cell_type": "code",
      "source": [
        "# Checking null \n",
        "# euro12.notnull().sum()\n",
        "#g = euro12.isnull().sum()\n",
        "#g[g[1] > 0]\n",
        "df = pd.DataFrame([range(3), [0, np.NaN, 0], [0, 0, np.NaN], range(3), range(3)],columns=['A','B','C'])\n",
        "print(df.describe())\n",
        "print(df.isnull())\n",
        "df.B.fillna(inplace=True,value=\"B-NotNA\")\n",
        "df.C.fillna(inplace=True,value=\"C-NotNA\")\n",
        "print(df)\n",
        "print(df.isnull())"
      ],
      "execution_count": 0,
      "outputs": [
        {
          "output_type": "stream",
          "text": [
            "         A     B    C\n",
            "count  5.0  4.00  4.0\n",
            "mean   0.0  0.75  1.5\n",
            "std    0.0  0.50  1.0\n",
            "min    0.0  0.00  0.0\n",
            "25%    0.0  0.75  1.5\n",
            "50%    0.0  1.00  2.0\n",
            "75%    0.0  1.00  2.0\n",
            "max    0.0  1.00  2.0\n",
            "       A      B      C\n",
            "0  False  False  False\n",
            "1  False   True  False\n",
            "2  False  False   True\n",
            "3  False  False  False\n",
            "4  False  False  False\n",
            "   A        B        C\n",
            "0  0        1        2\n",
            "1  0  B-NotNA        0\n",
            "2  0        0  C-NotNA\n",
            "3  0        1        2\n",
            "4  0        1        2\n",
            "       A      B      C\n",
            "0  False  False  False\n",
            "1  False  False  False\n",
            "2  False  False  False\n",
            "3  False  False  False\n",
            "4  False  False  False\n"
          ],
          "name": "stdout"
        }
      ]
    },
    {
      "metadata": {
        "id": "klTKj5mcznWg",
        "colab_type": "code",
        "colab": {
          "base_uri": "https://localhost:8080/",
          "height": 34
        },
        "outputId": "c921216e-9c47-427d-a910-ba45578a9827"
      },
      "cell_type": "code",
      "source": [
        "df = pd.DataFrame([['A',1,1], ['C', np.NaN, 0], ['E', 0, np.NaN], ['A',1,2] , ['A',2,1]],columns=['A','B','C'])\n",
        "# to jest pandas.Series\n",
        "type(df.groupby(\"A\").B.value_counts())"
      ],
      "execution_count": 7,
      "outputs": [
        {
          "output_type": "execute_result",
          "data": {
            "text/plain": [
              "pandas.core.series.Series"
            ]
          },
          "metadata": {
            "tags": []
          },
          "execution_count": 7
        }
      ]
    },
    {
      "metadata": {
        "id": "UGrs_7ZgUhTp",
        "colab_type": "code",
        "colab": {}
      },
      "cell_type": "code",
      "source": [
        "pd.read_csv?"
      ],
      "execution_count": 0,
      "outputs": []
    },
    {
      "metadata": {
        "id": "anDf_LT6M9tN",
        "colab_type": "text"
      },
      "cell_type": "markdown",
      "source": [
        "### Step 5. How many team participated in the Euro2012?"
      ]
    },
    {
      "metadata": {
        "id": "Ea_EFV5yM9tO",
        "colab_type": "code",
        "outputId": "f74310b4-3186-4209-cbe1-aafedff003bb",
        "colab": {
          "base_uri": "https://localhost:8080/",
          "height": 273
        }
      },
      "cell_type": "code",
      "source": [
        "# Agregacja po wszystkich kolumnach\n",
        "euro12.agg(['count','mean','min','max']).sort_values('Goals')"
      ],
      "execution_count": 0,
      "outputs": [
        {
          "output_type": "execute_result",
          "data": {
            "text/html": [
              "<div>\n",
              "<style scoped>\n",
              "    .dataframe tbody tr th:only-of-type {\n",
              "        vertical-align: middle;\n",
              "    }\n",
              "\n",
              "    .dataframe tbody tr th {\n",
              "        vertical-align: top;\n",
              "    }\n",
              "\n",
              "    .dataframe thead th {\n",
              "        text-align: right;\n",
              "    }\n",
              "</style>\n",
              "<table border=\"1\" class=\"dataframe\">\n",
              "  <thead>\n",
              "    <tr style=\"text-align: right;\">\n",
              "      <th></th>\n",
              "      <th>Team</th>\n",
              "      <th>Goals</th>\n",
              "      <th>Shots on target</th>\n",
              "      <th>Shots off target</th>\n",
              "      <th>Shooting Accuracy</th>\n",
              "      <th>% Goals-to-shots</th>\n",
              "      <th>Total shots (inc. Blocked)</th>\n",
              "      <th>Hit Woodwork</th>\n",
              "      <th>Penalty goals</th>\n",
              "      <th>Penalties not scored</th>\n",
              "      <th>...</th>\n",
              "      <th>Saves made</th>\n",
              "      <th>Saves-to-shots ratio</th>\n",
              "      <th>Fouls Won</th>\n",
              "      <th>Fouls Conceded</th>\n",
              "      <th>Offsides</th>\n",
              "      <th>Yellow Cards</th>\n",
              "      <th>Red Cards</th>\n",
              "      <th>Subs on</th>\n",
              "      <th>Subs off</th>\n",
              "      <th>Players Used</th>\n",
              "    </tr>\n",
              "  </thead>\n",
              "  <tbody>\n",
              "    <tr>\n",
              "      <th>min</th>\n",
              "      <td>Croatia</td>\n",
              "      <td>1.00</td>\n",
              "      <td>7.000</td>\n",
              "      <td>10.0000</td>\n",
              "      <td>21.2%</td>\n",
              "      <td>12.5%</td>\n",
              "      <td>27.0000</td>\n",
              "      <td>0.00</td>\n",
              "      <td>0.0000</td>\n",
              "      <td>0.0000</td>\n",
              "      <td>...</td>\n",
              "      <td>6.000</td>\n",
              "      <td>54.6%</td>\n",
              "      <td>25.0000</td>\n",
              "      <td>30.000</td>\n",
              "      <td>2.000</td>\n",
              "      <td>4.0000</td>\n",
              "      <td>0.0000</td>\n",
              "      <td>7.000</td>\n",
              "      <td>7.000</td>\n",
              "      <td>15.00</td>\n",
              "    </tr>\n",
              "    <tr>\n",
              "      <th>mean</th>\n",
              "      <td>NaN</td>\n",
              "      <td>4.75</td>\n",
              "      <td>17.125</td>\n",
              "      <td>24.9375</td>\n",
              "      <td>NaN</td>\n",
              "      <td>NaN</td>\n",
              "      <td>54.9375</td>\n",
              "      <td>1.25</td>\n",
              "      <td>0.1875</td>\n",
              "      <td>0.0625</td>\n",
              "      <td>...</td>\n",
              "      <td>12.125</td>\n",
              "      <td>NaN</td>\n",
              "      <td>52.9375</td>\n",
              "      <td>55.625</td>\n",
              "      <td>8.125</td>\n",
              "      <td>7.4375</td>\n",
              "      <td>0.1875</td>\n",
              "      <td>10.875</td>\n",
              "      <td>10.875</td>\n",
              "      <td>17.25</td>\n",
              "    </tr>\n",
              "    <tr>\n",
              "      <th>max</th>\n",
              "      <td>Ukraine</td>\n",
              "      <td>12.00</td>\n",
              "      <td>42.000</td>\n",
              "      <td>45.0000</td>\n",
              "      <td>55.9%</td>\n",
              "      <td>9.3%</td>\n",
              "      <td>110.0000</td>\n",
              "      <td>6.00</td>\n",
              "      <td>1.0000</td>\n",
              "      <td>1.0000</td>\n",
              "      <td>...</td>\n",
              "      <td>22.000</td>\n",
              "      <td>93.8%</td>\n",
              "      <td>102.0000</td>\n",
              "      <td>90.000</td>\n",
              "      <td>19.000</td>\n",
              "      <td>16.0000</td>\n",
              "      <td>1.0000</td>\n",
              "      <td>18.000</td>\n",
              "      <td>18.000</td>\n",
              "      <td>20.00</td>\n",
              "    </tr>\n",
              "    <tr>\n",
              "      <th>count</th>\n",
              "      <td>16</td>\n",
              "      <td>16.00</td>\n",
              "      <td>16.000</td>\n",
              "      <td>16.0000</td>\n",
              "      <td>16</td>\n",
              "      <td>16</td>\n",
              "      <td>16.0000</td>\n",
              "      <td>16.00</td>\n",
              "      <td>16.0000</td>\n",
              "      <td>16.0000</td>\n",
              "      <td>...</td>\n",
              "      <td>16.000</td>\n",
              "      <td>16</td>\n",
              "      <td>16.0000</td>\n",
              "      <td>16.000</td>\n",
              "      <td>16.000</td>\n",
              "      <td>16.0000</td>\n",
              "      <td>16.0000</td>\n",
              "      <td>16.000</td>\n",
              "      <td>16.000</td>\n",
              "      <td>16.00</td>\n",
              "    </tr>\n",
              "  </tbody>\n",
              "</table>\n",
              "<p>4 rows × 35 columns</p>\n",
              "</div>"
            ],
            "text/plain": [
              "          Team  Goals  Shots on target  Shots off target Shooting Accuracy  \\\n",
              "min    Croatia   1.00            7.000           10.0000             21.2%   \n",
              "mean       NaN   4.75           17.125           24.9375               NaN   \n",
              "max    Ukraine  12.00           42.000           45.0000             55.9%   \n",
              "count       16  16.00           16.000           16.0000                16   \n",
              "\n",
              "      % Goals-to-shots  Total shots (inc. Blocked)  Hit Woodwork  \\\n",
              "min              12.5%                     27.0000          0.00   \n",
              "mean               NaN                     54.9375          1.25   \n",
              "max               9.3%                    110.0000          6.00   \n",
              "count               16                     16.0000         16.00   \n",
              "\n",
              "       Penalty goals  Penalties not scored      ...       Saves made  \\\n",
              "min           0.0000                0.0000      ...            6.000   \n",
              "mean          0.1875                0.0625      ...           12.125   \n",
              "max           1.0000                1.0000      ...           22.000   \n",
              "count        16.0000               16.0000      ...           16.000   \n",
              "\n",
              "       Saves-to-shots ratio  Fouls Won Fouls Conceded  Offsides  Yellow Cards  \\\n",
              "min                   54.6%    25.0000         30.000     2.000        4.0000   \n",
              "mean                    NaN    52.9375         55.625     8.125        7.4375   \n",
              "max                   93.8%   102.0000         90.000    19.000       16.0000   \n",
              "count                    16    16.0000         16.000    16.000       16.0000   \n",
              "\n",
              "       Red Cards  Subs on  Subs off  Players Used  \n",
              "min       0.0000    7.000     7.000         15.00  \n",
              "mean      0.1875   10.875    10.875         17.25  \n",
              "max       1.0000   18.000    18.000         20.00  \n",
              "count    16.0000   16.000    16.000         16.00  \n",
              "\n",
              "[4 rows x 35 columns]"
            ]
          },
          "metadata": {
            "tags": []
          },
          "execution_count": 28
        }
      ]
    },
    {
      "metadata": {
        "id": "hqocDgF9M9tQ",
        "colab_type": "text"
      },
      "cell_type": "markdown",
      "source": [
        "### Step 6. What is the number of columns in the dataset?"
      ]
    },
    {
      "metadata": {
        "id": "49Nqtk51M9tR",
        "colab_type": "code",
        "colab": {}
      },
      "cell_type": "code",
      "source": [
        ""
      ],
      "execution_count": 0,
      "outputs": []
    },
    {
      "metadata": {
        "id": "AYBV-xUtM9tT",
        "colab_type": "text"
      },
      "cell_type": "markdown",
      "source": [
        "### Step 7. View only the columns Team, Yellow Cards and Red Cards and assign them to a dataframe called discipline"
      ]
    },
    {
      "metadata": {
        "id": "IKt12wxMM9tU",
        "colab_type": "code",
        "colab": {}
      },
      "cell_type": "code",
      "source": [
        ""
      ],
      "execution_count": 0,
      "outputs": []
    },
    {
      "metadata": {
        "id": "y1AtbEhXM9tX",
        "colab_type": "text"
      },
      "cell_type": "markdown",
      "source": [
        "### Step 8. Sort the teams by Red Cards, then to Yellow Cards"
      ]
    },
    {
      "metadata": {
        "scrolled": true,
        "id": "SydzVTdCM9tZ",
        "colab_type": "code",
        "colab": {}
      },
      "cell_type": "code",
      "source": [
        ""
      ],
      "execution_count": 0,
      "outputs": []
    },
    {
      "metadata": {
        "id": "frFQUCW8M9ta",
        "colab_type": "text"
      },
      "cell_type": "markdown",
      "source": [
        "### Step 9. Calculate the mean Yellow Cards given per Team"
      ]
    },
    {
      "metadata": {
        "id": "lIJhP0SJM9tc",
        "colab_type": "code",
        "colab": {}
      },
      "cell_type": "code",
      "source": [
        ""
      ],
      "execution_count": 0,
      "outputs": []
    },
    {
      "metadata": {
        "id": "VnU2zzEqM9te",
        "colab_type": "text"
      },
      "cell_type": "markdown",
      "source": [
        "### Step 10. Filter teams that scored more than 6 goals"
      ]
    },
    {
      "metadata": {
        "id": "MlGL4GvqM9tf",
        "colab_type": "code",
        "colab": {}
      },
      "cell_type": "code",
      "source": [
        ""
      ],
      "execution_count": 0,
      "outputs": []
    },
    {
      "metadata": {
        "id": "nib_xlllM9th",
        "colab_type": "text"
      },
      "cell_type": "markdown",
      "source": [
        "### Step 11. Select the teams that start with G"
      ]
    },
    {
      "metadata": {
        "id": "7lkSlyjwM9th",
        "colab_type": "code",
        "colab": {}
      },
      "cell_type": "code",
      "source": [
        ""
      ],
      "execution_count": 0,
      "outputs": []
    },
    {
      "metadata": {
        "id": "LG8yoSwbM9tk",
        "colab_type": "text"
      },
      "cell_type": "markdown",
      "source": [
        "### Step 12. Select the first 7 columns"
      ]
    },
    {
      "metadata": {
        "id": "yAfQ3GPOM9tl",
        "colab_type": "code",
        "colab": {}
      },
      "cell_type": "code",
      "source": [
        ""
      ],
      "execution_count": 0,
      "outputs": []
    },
    {
      "metadata": {
        "id": "x2FbgQBRM9tm",
        "colab_type": "text"
      },
      "cell_type": "markdown",
      "source": [
        "### Step 13. Select all columns except the last 3."
      ]
    },
    {
      "metadata": {
        "id": "6Pn7t4BaM9to",
        "colab_type": "code",
        "colab": {}
      },
      "cell_type": "code",
      "source": [
        ""
      ],
      "execution_count": 0,
      "outputs": []
    },
    {
      "metadata": {
        "id": "btH7GEx9M9tp",
        "colab_type": "text"
      },
      "cell_type": "markdown",
      "source": [
        "### Step 14. Present only the Shooting Accuracy from England, Italy and Russia"
      ]
    },
    {
      "metadata": {
        "id": "t4sY3euRM9tq",
        "colab_type": "code",
        "colab": {}
      },
      "cell_type": "code",
      "source": [
        ""
      ],
      "execution_count": 0,
      "outputs": []
    }
  ]
}