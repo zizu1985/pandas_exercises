{
  "nbformat": 4,
  "nbformat_minor": 0,
  "metadata": {
    "colab": {
      "name": "Exercises.ipynb",
      "version": "0.3.2",
      "provenance": []
    },
    "kernelspec": {
      "display_name": "Python [default]",
      "language": "python",
      "name": "python2"
    }
  },
  "cells": [
    {
      "metadata": {
        "id": "NQZmdsYxM9s-",
        "colab_type": "text"
      },
      "cell_type": "markdown",
      "source": [
        "# Ex2 - Filtering and Sorting Data"
      ]
    },
    {
      "metadata": {
        "id": "wkOmvEQNM9tA",
        "colab_type": "text"
      },
      "cell_type": "markdown",
      "source": [
        "This time we are going to pull data directly from the internet.\n",
        "\n",
        "### Step 1. Import the necessary libraries"
      ]
    },
    {
      "metadata": {
        "id": "ryyUdhBtM9tC",
        "colab_type": "code",
        "colab": {}
      },
      "cell_type": "code",
      "source": [
        "import pandas as pd"
      ],
      "execution_count": 0,
      "outputs": []
    },
    {
      "metadata": {
        "id": "JS5RyV9hM9tF",
        "colab_type": "text"
      },
      "cell_type": "markdown",
      "source": [
        "### Step 2. Import the dataset from this [address](https://raw.githubusercontent.com/guipsamora/pandas_exercises/master/02_Filtering_%26_Sorting/Euro12/Euro_2012_stats_TEAM.csv). "
      ]
    },
    {
      "metadata": {
        "id": "7r28ntmvM9tG",
        "colab_type": "text"
      },
      "cell_type": "markdown",
      "source": [
        "### Step 3. Assign it to a variable called euro12."
      ]
    },
    {
      "metadata": {
        "id": "CVciW1iUM9tH",
        "colab_type": "code",
        "colab": {}
      },
      "cell_type": "code",
      "source": [
        ""
      ],
      "execution_count": 0,
      "outputs": []
    },
    {
      "metadata": {
        "id": "cq9Z9H8UM9tJ",
        "colab_type": "text"
      },
      "cell_type": "markdown",
      "source": [
        "### Step 4. Select only the Goal column."
      ]
    },
    {
      "metadata": {
        "id": "QWub7xq8M9tK",
        "colab_type": "code",
        "colab": {}
      },
      "cell_type": "code",
      "source": [
        ""
      ],
      "execution_count": 0,
      "outputs": []
    },
    {
      "metadata": {
        "id": "anDf_LT6M9tN",
        "colab_type": "text"
      },
      "cell_type": "markdown",
      "source": [
        "### Step 5. How many team participated in the Euro2012?"
      ]
    },
    {
      "metadata": {
        "id": "Ea_EFV5yM9tO",
        "colab_type": "code",
        "colab": {}
      },
      "cell_type": "code",
      "source": [
        ""
      ],
      "execution_count": 0,
      "outputs": []
    },
    {
      "metadata": {
        "id": "hqocDgF9M9tQ",
        "colab_type": "text"
      },
      "cell_type": "markdown",
      "source": [
        "### Step 6. What is the number of columns in the dataset?"
      ]
    },
    {
      "metadata": {
        "id": "49Nqtk51M9tR",
        "colab_type": "code",
        "colab": {}
      },
      "cell_type": "code",
      "source": [
        ""
      ],
      "execution_count": 0,
      "outputs": []
    },
    {
      "metadata": {
        "id": "AYBV-xUtM9tT",
        "colab_type": "text"
      },
      "cell_type": "markdown",
      "source": [
        "### Step 7. View only the columns Team, Yellow Cards and Red Cards and assign them to a dataframe called discipline"
      ]
    },
    {
      "metadata": {
        "id": "IKt12wxMM9tU",
        "colab_type": "code",
        "colab": {}
      },
      "cell_type": "code",
      "source": [
        ""
      ],
      "execution_count": 0,
      "outputs": []
    },
    {
      "metadata": {
        "id": "y1AtbEhXM9tX",
        "colab_type": "text"
      },
      "cell_type": "markdown",
      "source": [
        "### Step 8. Sort the teams by Red Cards, then to Yellow Cards"
      ]
    },
    {
      "metadata": {
        "scrolled": true,
        "id": "SydzVTdCM9tZ",
        "colab_type": "code",
        "colab": {}
      },
      "cell_type": "code",
      "source": [
        ""
      ],
      "execution_count": 0,
      "outputs": []
    },
    {
      "metadata": {
        "id": "frFQUCW8M9ta",
        "colab_type": "text"
      },
      "cell_type": "markdown",
      "source": [
        "### Step 9. Calculate the mean Yellow Cards given per Team"
      ]
    },
    {
      "metadata": {
        "id": "lIJhP0SJM9tc",
        "colab_type": "code",
        "colab": {}
      },
      "cell_type": "code",
      "source": [
        ""
      ],
      "execution_count": 0,
      "outputs": []
    },
    {
      "metadata": {
        "id": "VnU2zzEqM9te",
        "colab_type": "text"
      },
      "cell_type": "markdown",
      "source": [
        "### Step 10. Filter teams that scored more than 6 goals"
      ]
    },
    {
      "metadata": {
        "id": "MlGL4GvqM9tf",
        "colab_type": "code",
        "colab": {}
      },
      "cell_type": "code",
      "source": [
        ""
      ],
      "execution_count": 0,
      "outputs": []
    },
    {
      "metadata": {
        "id": "nib_xlllM9th",
        "colab_type": "text"
      },
      "cell_type": "markdown",
      "source": [
        "### Step 11. Select the teams that start with G"
      ]
    },
    {
      "metadata": {
        "id": "7lkSlyjwM9th",
        "colab_type": "code",
        "colab": {}
      },
      "cell_type": "code",
      "source": [
        ""
      ],
      "execution_count": 0,
      "outputs": []
    },
    {
      "metadata": {
        "id": "LG8yoSwbM9tk",
        "colab_type": "text"
      },
      "cell_type": "markdown",
      "source": [
        "### Step 12. Select the first 7 columns"
      ]
    },
    {
      "metadata": {
        "id": "yAfQ3GPOM9tl",
        "colab_type": "code",
        "colab": {}
      },
      "cell_type": "code",
      "source": [
        ""
      ],
      "execution_count": 0,
      "outputs": []
    },
    {
      "metadata": {
        "id": "x2FbgQBRM9tm",
        "colab_type": "text"
      },
      "cell_type": "markdown",
      "source": [
        "### Step 13. Select all columns except the last 3."
      ]
    },
    {
      "metadata": {
        "id": "6Pn7t4BaM9to",
        "colab_type": "code",
        "colab": {}
      },
      "cell_type": "code",
      "source": [
        ""
      ],
      "execution_count": 0,
      "outputs": []
    },
    {
      "metadata": {
        "id": "btH7GEx9M9tp",
        "colab_type": "text"
      },
      "cell_type": "markdown",
      "source": [
        "### Step 14. Present only the Shooting Accuracy from England, Italy and Russia"
      ]
    },
    {
      "metadata": {
        "id": "t4sY3euRM9tq",
        "colab_type": "code",
        "colab": {}
      },
      "cell_type": "code",
      "source": [
        ""
      ],
      "execution_count": 0,
      "outputs": []
    }
  ]
}