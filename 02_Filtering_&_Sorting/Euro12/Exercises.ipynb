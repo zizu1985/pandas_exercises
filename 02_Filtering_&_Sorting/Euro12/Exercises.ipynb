{
  "nbformat": 4,
  "nbformat_minor": 0,
  "metadata": {
    "colab": {
      "name": "Exercises.ipynb",
      "version": "0.3.2",
      "provenance": []
    },
    "kernelspec": {
      "display_name": "Python [default]",
      "language": "python",
      "name": "python2"
    }
  },
  "cells": [
    {
      "metadata": {
        "id": "NQZmdsYxM9s-",
        "colab_type": "text"
      },
      "cell_type": "markdown",
      "source": [
        "# Ex2 - Filtering and Sorting Data"
      ]
    },
    {
      "metadata": {
        "id": "wkOmvEQNM9tA",
        "colab_type": "text"
      },
      "cell_type": "markdown",
      "source": [
        "This time we are going to pull data directly from the internet.\n",
        "\n",
        "### Step 1. Import the necessary libraries"
      ]
    },
    {
      "metadata": {
        "id": "ryyUdhBtM9tC",
        "colab_type": "code",
        "colab": {}
      },
      "cell_type": "code",
      "source": [
        "import pandas as pd\n",
        "import numpy as np"
      ],
      "execution_count": 0,
      "outputs": []
    },
    {
      "metadata": {
        "id": "JS5RyV9hM9tF",
        "colab_type": "text"
      },
      "cell_type": "markdown",
      "source": [
        "### Step 2. Import the dataset from this [address](https://raw.githubusercontent.com/guipsamora/pandas_exercises/master/02_Filtering_%26_Sorting/Euro12/Euro_2012_stats_TEAM.csv). "
      ]
    },
    {
      "metadata": {
        "id": "7r28ntmvM9tG",
        "colab_type": "text"
      },
      "cell_type": "markdown",
      "source": [
        "### Step 3. Assign it to a variable called euro12."
      ]
    },
    {
      "metadata": {
        "id": "CVciW1iUM9tH",
        "colab_type": "code",
        "colab": {
          "base_uri": "https://localhost:8080/",
          "height": 1421
        },
        "outputId": "16c4f9d3-bd52-410d-877a-4a8cb55b6845"
      },
      "cell_type": "code",
      "source": [
        "euro12 = pd.read_csv(r'https://raw.githubusercontent.com/guipsamora/pandas_exercises/master/02_Filtering_%26_Sorting/Euro12/Euro_2012_stats_TEAM.csv')\n",
        "print(euro12.info())\n",
        "euro12_no_goals = euro12.drop(['Goals'],axis=1)\n",
        "# Jest ok, bo Goals to columna. Proba usuniecia jako wiersz konczy sie bledem. \n",
        "# axis z default jest 0 \n",
        "print(euro12_no_goals.info())"
      ],
      "execution_count": 3,
      "outputs": [
        {
          "output_type": "stream",
          "text": [
            "<class 'pandas.core.frame.DataFrame'>\n",
            "RangeIndex: 16 entries, 0 to 15\n",
            "Data columns (total 35 columns):\n",
            "Team                          16 non-null object\n",
            "Goals                         16 non-null int64\n",
            "Shots on target               16 non-null int64\n",
            "Shots off target              16 non-null int64\n",
            "Shooting Accuracy             16 non-null object\n",
            "% Goals-to-shots              16 non-null object\n",
            "Total shots (inc. Blocked)    16 non-null int64\n",
            "Hit Woodwork                  16 non-null int64\n",
            "Penalty goals                 16 non-null int64\n",
            "Penalties not scored          16 non-null int64\n",
            "Headed goals                  16 non-null int64\n",
            "Passes                        16 non-null int64\n",
            "Passes completed              16 non-null int64\n",
            "Passing Accuracy              16 non-null object\n",
            "Touches                       16 non-null int64\n",
            "Crosses                       16 non-null int64\n",
            "Dribbles                      16 non-null int64\n",
            "Corners Taken                 16 non-null int64\n",
            "Tackles                       16 non-null int64\n",
            "Clearances                    16 non-null int64\n",
            "Interceptions                 16 non-null int64\n",
            "Clearances off line           15 non-null float64\n",
            "Clean Sheets                  16 non-null int64\n",
            "Blocks                        16 non-null int64\n",
            "Goals conceded                16 non-null int64\n",
            "Saves made                    16 non-null int64\n",
            "Saves-to-shots ratio          16 non-null object\n",
            "Fouls Won                     16 non-null int64\n",
            "Fouls Conceded                16 non-null int64\n",
            "Offsides                      16 non-null int64\n",
            "Yellow Cards                  16 non-null int64\n",
            "Red Cards                     16 non-null int64\n",
            "Subs on                       16 non-null int64\n",
            "Subs off                      16 non-null int64\n",
            "Players Used                  16 non-null int64\n",
            "dtypes: float64(1), int64(29), object(5)\n",
            "memory usage: 4.4+ KB\n",
            "None\n",
            "<class 'pandas.core.frame.DataFrame'>\n",
            "RangeIndex: 16 entries, 0 to 15\n",
            "Data columns (total 34 columns):\n",
            "Team                          16 non-null object\n",
            "Shots on target               16 non-null int64\n",
            "Shots off target              16 non-null int64\n",
            "Shooting Accuracy             16 non-null object\n",
            "% Goals-to-shots              16 non-null object\n",
            "Total shots (inc. Blocked)    16 non-null int64\n",
            "Hit Woodwork                  16 non-null int64\n",
            "Penalty goals                 16 non-null int64\n",
            "Penalties not scored          16 non-null int64\n",
            "Headed goals                  16 non-null int64\n",
            "Passes                        16 non-null int64\n",
            "Passes completed              16 non-null int64\n",
            "Passing Accuracy              16 non-null object\n",
            "Touches                       16 non-null int64\n",
            "Crosses                       16 non-null int64\n",
            "Dribbles                      16 non-null int64\n",
            "Corners Taken                 16 non-null int64\n",
            "Tackles                       16 non-null int64\n",
            "Clearances                    16 non-null int64\n",
            "Interceptions                 16 non-null int64\n",
            "Clearances off line           15 non-null float64\n",
            "Clean Sheets                  16 non-null int64\n",
            "Blocks                        16 non-null int64\n",
            "Goals conceded                16 non-null int64\n",
            "Saves made                    16 non-null int64\n",
            "Saves-to-shots ratio          16 non-null object\n",
            "Fouls Won                     16 non-null int64\n",
            "Fouls Conceded                16 non-null int64\n",
            "Offsides                      16 non-null int64\n",
            "Yellow Cards                  16 non-null int64\n",
            "Red Cards                     16 non-null int64\n",
            "Subs on                       16 non-null int64\n",
            "Subs off                      16 non-null int64\n",
            "Players Used                  16 non-null int64\n",
            "dtypes: float64(1), int64(28), object(5)\n",
            "memory usage: 4.3+ KB\n",
            "None\n"
          ],
          "name": "stdout"
        }
      ]
    },
    {
      "metadata": {
        "id": "cq9Z9H8UM9tJ",
        "colab_type": "text"
      },
      "cell_type": "markdown",
      "source": [
        "### Step 4. Select only the Goal column."
      ]
    },
    {
      "metadata": {
        "id": "QWub7xq8M9tK",
        "colab_type": "code",
        "colab": {
          "base_uri": "https://localhost:8080/",
          "height": 312
        },
        "outputId": "ee2bac73-8619-43e9-bbb2-8f976352ec5a"
      },
      "cell_type": "code",
      "source": [
        "euro12.Goals\n",
        "#euro12.Goals.isnull().value_counts()"
      ],
      "execution_count": 4,
      "outputs": [
        {
          "output_type": "execute_result",
          "data": {
            "text/plain": [
              "0      4\n",
              "1      4\n",
              "2      4\n",
              "3      5\n",
              "4      3\n",
              "5     10\n",
              "6      5\n",
              "7      6\n",
              "8      2\n",
              "9      2\n",
              "10     6\n",
              "11     1\n",
              "12     5\n",
              "13    12\n",
              "14     5\n",
              "15     2\n",
              "Name: Goals, dtype: int64"
            ]
          },
          "metadata": {
            "tags": []
          },
          "execution_count": 4
        }
      ]
    },
    {
      "metadata": {
        "id": "hS5dCfZ7GPDd",
        "colab_type": "code",
        "colab": {
          "base_uri": "https://localhost:8080/",
          "height": 329
        },
        "outputId": "7ac5a57f-78c9-44d4-8781-17efc6674d2b"
      },
      "cell_type": "code",
      "source": [
        "# Checking null \n",
        "# euro12.notnull().sum()\n",
        "#g = euro12.isnull().sum()\n",
        "#g[g[1] > 0]\n",
        "df = pd.DataFrame([range(3), [0, np.NaN, 0], [0, 0, np.NaN], range(3), range(3)],columns=['A','B','C'])\n",
        "print(df.isnull())\n",
        "df.B.fillna(inplace=True,value=\"B-NotNA\")\n",
        "df.C.fillna(inplace=True,value=\"C-NotNA\")\n",
        "print(df)\n",
        "print(df.isnull())"
      ],
      "execution_count": 21,
      "outputs": [
        {
          "output_type": "stream",
          "text": [
            "       A      B      C\n",
            "0  False  False  False\n",
            "1  False   True  False\n",
            "2  False  False   True\n",
            "3  False  False  False\n",
            "4  False  False  False\n",
            "   A        B        C\n",
            "0  0        1        2\n",
            "1  0  B-NotNA        0\n",
            "2  0        0  C-NotNA\n",
            "3  0        1        2\n",
            "4  0        1        2\n",
            "       A      B      C\n",
            "0  False  False  False\n",
            "1  False  False  False\n",
            "2  False  False  False\n",
            "3  False  False  False\n",
            "4  False  False  False\n"
          ],
          "name": "stdout"
        }
      ]
    },
    {
      "metadata": {
        "id": "anDf_LT6M9tN",
        "colab_type": "text"
      },
      "cell_type": "markdown",
      "source": [
        "### Step 5. How many team participated in the Euro2012?"
      ]
    },
    {
      "metadata": {
        "id": "Ea_EFV5yM9tO",
        "colab_type": "code",
        "colab": {}
      },
      "cell_type": "code",
      "source": [
        ""
      ],
      "execution_count": 0,
      "outputs": []
    },
    {
      "metadata": {
        "id": "hqocDgF9M9tQ",
        "colab_type": "text"
      },
      "cell_type": "markdown",
      "source": [
        "### Step 6. What is the number of columns in the dataset?"
      ]
    },
    {
      "metadata": {
        "id": "49Nqtk51M9tR",
        "colab_type": "code",
        "colab": {}
      },
      "cell_type": "code",
      "source": [
        ""
      ],
      "execution_count": 0,
      "outputs": []
    },
    {
      "metadata": {
        "id": "AYBV-xUtM9tT",
        "colab_type": "text"
      },
      "cell_type": "markdown",
      "source": [
        "### Step 7. View only the columns Team, Yellow Cards and Red Cards and assign them to a dataframe called discipline"
      ]
    },
    {
      "metadata": {
        "id": "IKt12wxMM9tU",
        "colab_type": "code",
        "colab": {}
      },
      "cell_type": "code",
      "source": [
        ""
      ],
      "execution_count": 0,
      "outputs": []
    },
    {
      "metadata": {
        "id": "y1AtbEhXM9tX",
        "colab_type": "text"
      },
      "cell_type": "markdown",
      "source": [
        "### Step 8. Sort the teams by Red Cards, then to Yellow Cards"
      ]
    },
    {
      "metadata": {
        "scrolled": true,
        "id": "SydzVTdCM9tZ",
        "colab_type": "code",
        "colab": {}
      },
      "cell_type": "code",
      "source": [
        ""
      ],
      "execution_count": 0,
      "outputs": []
    },
    {
      "metadata": {
        "id": "frFQUCW8M9ta",
        "colab_type": "text"
      },
      "cell_type": "markdown",
      "source": [
        "### Step 9. Calculate the mean Yellow Cards given per Team"
      ]
    },
    {
      "metadata": {
        "id": "lIJhP0SJM9tc",
        "colab_type": "code",
        "colab": {}
      },
      "cell_type": "code",
      "source": [
        ""
      ],
      "execution_count": 0,
      "outputs": []
    },
    {
      "metadata": {
        "id": "VnU2zzEqM9te",
        "colab_type": "text"
      },
      "cell_type": "markdown",
      "source": [
        "### Step 10. Filter teams that scored more than 6 goals"
      ]
    },
    {
      "metadata": {
        "id": "MlGL4GvqM9tf",
        "colab_type": "code",
        "colab": {}
      },
      "cell_type": "code",
      "source": [
        ""
      ],
      "execution_count": 0,
      "outputs": []
    },
    {
      "metadata": {
        "id": "nib_xlllM9th",
        "colab_type": "text"
      },
      "cell_type": "markdown",
      "source": [
        "### Step 11. Select the teams that start with G"
      ]
    },
    {
      "metadata": {
        "id": "7lkSlyjwM9th",
        "colab_type": "code",
        "colab": {}
      },
      "cell_type": "code",
      "source": [
        ""
      ],
      "execution_count": 0,
      "outputs": []
    },
    {
      "metadata": {
        "id": "LG8yoSwbM9tk",
        "colab_type": "text"
      },
      "cell_type": "markdown",
      "source": [
        "### Step 12. Select the first 7 columns"
      ]
    },
    {
      "metadata": {
        "id": "yAfQ3GPOM9tl",
        "colab_type": "code",
        "colab": {}
      },
      "cell_type": "code",
      "source": [
        ""
      ],
      "execution_count": 0,
      "outputs": []
    },
    {
      "metadata": {
        "id": "x2FbgQBRM9tm",
        "colab_type": "text"
      },
      "cell_type": "markdown",
      "source": [
        "### Step 13. Select all columns except the last 3."
      ]
    },
    {
      "metadata": {
        "id": "6Pn7t4BaM9to",
        "colab_type": "code",
        "colab": {}
      },
      "cell_type": "code",
      "source": [
        ""
      ],
      "execution_count": 0,
      "outputs": []
    },
    {
      "metadata": {
        "id": "btH7GEx9M9tp",
        "colab_type": "text"
      },
      "cell_type": "markdown",
      "source": [
        "### Step 14. Present only the Shooting Accuracy from England, Italy and Russia"
      ]
    },
    {
      "metadata": {
        "id": "t4sY3euRM9tq",
        "colab_type": "code",
        "colab": {}
      },
      "cell_type": "code",
      "source": [
        ""
      ],
      "execution_count": 0,
      "outputs": []
    }
  ]
}