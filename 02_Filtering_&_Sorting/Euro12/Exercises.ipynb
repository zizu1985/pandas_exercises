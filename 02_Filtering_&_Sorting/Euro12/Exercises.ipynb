{
  "nbformat": 4,
  "nbformat_minor": 0,
  "metadata": {
    "colab": {
      "name": "Exercises.ipynb",
      "version": "0.3.2",
      "provenance": []
    },
    "kernelspec": {
      "display_name": "Python [default]",
      "language": "python",
      "name": "python2"
    }
  },
  "cells": [
    {
      "metadata": {
        "id": "NQZmdsYxM9s-",
        "colab_type": "text"
      },
      "cell_type": "markdown",
      "source": [
        "# Ex2 - Filtering and Sorting Data"
      ]
    },
    {
      "metadata": {
        "id": "wkOmvEQNM9tA",
        "colab_type": "text"
      },
      "cell_type": "markdown",
      "source": [
        "This time we are going to pull data directly from the internet.\n",
        "\n",
        "### Step 1. Import the necessary libraries"
      ]
    },
    {
      "metadata": {
        "id": "ryyUdhBtM9tC",
        "colab_type": "code",
        "colab": {}
      },
      "cell_type": "code",
      "source": [
        "import pandas as pd"
      ],
      "execution_count": 0,
      "outputs": []
    },
    {
      "metadata": {
        "id": "JS5RyV9hM9tF",
        "colab_type": "text"
      },
      "cell_type": "markdown",
      "source": [
        "### Step 2. Import the dataset from this [address](https://raw.githubusercontent.com/guipsamora/pandas_exercises/master/02_Filtering_%26_Sorting/Euro12/Euro_2012_stats_TEAM.csv). "
      ]
    },
    {
      "metadata": {
        "id": "7r28ntmvM9tG",
        "colab_type": "text"
      },
      "cell_type": "markdown",
      "source": [
        "### Step 3. Assign it to a variable called euro12."
      ]
    },
    {
      "metadata": {
        "id": "CVciW1iUM9tH",
        "colab_type": "code",
        "colab": {
          "base_uri": "https://localhost:8080/",
          "height": 1313
        },
        "outputId": "f6533473-a930-4222-fd1d-d161a18488ad"
      },
      "cell_type": "code",
      "source": [
        "euro12 = pd.read_csv(r'https://raw.githubusercontent.com/guipsamora/pandas_exercises/master/02_Filtering_%26_Sorting/Euro12/Euro_2012_stats_TEAM.csv')\n",
        "print(euro12.info())\n",
        "#euro12_no_goals = euro12.drop(['Goals'],axis=1)\n",
        "# Jest ok, bo Goals to columna. Proba usuniecia jako wiersz konczy sie bledem. \n",
        "# axis z default jest 0 \n",
        "print(euro12_no_goals.info())"
      ],
      "execution_count": 8,
      "outputs": [
        {
          "output_type": "stream",
          "text": [
            "<class 'pandas.core.frame.DataFrame'>\n",
            "RangeIndex: 16 entries, 0 to 15\n",
            "Data columns (total 35 columns):\n",
            "Team                          16 non-null object\n",
            "Goals                         16 non-null int64\n",
            "Shots on target               16 non-null int64\n",
            "Shots off target              16 non-null int64\n",
            "Shooting Accuracy             16 non-null object\n",
            "% Goals-to-shots              16 non-null object\n",
            "Total shots (inc. Blocked)    16 non-null int64\n",
            "Hit Woodwork                  16 non-null int64\n",
            "Penalty goals                 16 non-null int64\n",
            "Penalties not scored          16 non-null int64\n",
            "Headed goals                  16 non-null int64\n",
            "Passes                        16 non-null int64\n",
            "Passes completed              16 non-null int64\n",
            "Passing Accuracy              16 non-null object\n",
            "Touches                       16 non-null int64\n",
            "Crosses                       16 non-null int64\n",
            "Dribbles                      16 non-null int64\n",
            "Corners Taken                 16 non-null int64\n",
            "Tackles                       16 non-null int64\n",
            "Clearances                    16 non-null int64\n",
            "Interceptions                 16 non-null int64\n",
            "Clearances off line           15 non-null float64\n",
            "Clean Sheets                  16 non-null int64\n",
            "Blocks                        16 non-null int64\n",
            "Goals conceded                16 non-null int64\n",
            "Saves made                    16 non-null int64\n",
            "Saves-to-shots ratio          16 non-null object\n",
            "Fouls Won                     16 non-null int64\n",
            "Fouls Conceded                16 non-null int64\n",
            "Offsides                      16 non-null int64\n",
            "Yellow Cards                  16 non-null int64\n",
            "Red Cards                     16 non-null int64\n",
            "Subs on                       16 non-null int64\n",
            "Subs off                      16 non-null int64\n",
            "Players Used                  16 non-null int64\n",
            "dtypes: float64(1), int64(29), object(5)\n",
            "memory usage: 4.4+ KB\n",
            "None\n"
          ],
          "name": "stdout"
        },
        {
          "output_type": "error",
          "ename": "ValueError",
          "evalue": "ignored",
          "traceback": [
            "\u001b[0;31m\u001b[0m",
            "\u001b[0;31mValueError\u001b[0mTraceback (most recent call last)",
            "\u001b[0;32m<ipython-input-8-6dabc3da3b72>\u001b[0m in \u001b[0;36m<module>\u001b[0;34m()\u001b[0m\n\u001b[1;32m      3\u001b[0m \u001b[0;31m#euro12_no_goals = euro12.drop(['Goals'],axis=1)\u001b[0m\u001b[0;34m\u001b[0m\u001b[0;34m\u001b[0m\u001b[0m\n\u001b[1;32m      4\u001b[0m \u001b[0;31m# Jest ok, bo Goals to columna. Proba usuniecia jako wiersz konczy sie bledem.\u001b[0m\u001b[0;34m\u001b[0m\u001b[0;34m\u001b[0m\u001b[0m\n\u001b[0;32m----> 5\u001b[0;31m \u001b[0meuro12_no_goals\u001b[0m \u001b[0;34m=\u001b[0m \u001b[0meuro12\u001b[0m\u001b[0;34m.\u001b[0m\u001b[0mdrop\u001b[0m\u001b[0;34m(\u001b[0m\u001b[0;34m[\u001b[0m\u001b[0;34m'Goals'\u001b[0m\u001b[0;34m]\u001b[0m\u001b[0;34m)\u001b[0m\u001b[0;34m\u001b[0m\u001b[0m\n\u001b[0m\u001b[1;32m      6\u001b[0m \u001b[0;32mprint\u001b[0m\u001b[0;34m(\u001b[0m\u001b[0meuro12_no_goals\u001b[0m\u001b[0;34m.\u001b[0m\u001b[0minfo\u001b[0m\u001b[0;34m(\u001b[0m\u001b[0;34m)\u001b[0m\u001b[0;34m)\u001b[0m\u001b[0;34m\u001b[0m\u001b[0m\n",
            "\u001b[0;32m/usr/local/lib/python2.7/dist-packages/pandas/core/generic.pyc\u001b[0m in \u001b[0;36mdrop\u001b[0;34m(self, labels, axis, index, columns, level, inplace, errors)\u001b[0m\n\u001b[1;32m   2528\u001b[0m         \u001b[0;32mfor\u001b[0m \u001b[0maxis\u001b[0m\u001b[0;34m,\u001b[0m \u001b[0mlabels\u001b[0m \u001b[0;32min\u001b[0m \u001b[0maxes\u001b[0m\u001b[0;34m.\u001b[0m\u001b[0mitems\u001b[0m\u001b[0;34m(\u001b[0m\u001b[0;34m)\u001b[0m\u001b[0;34m:\u001b[0m\u001b[0;34m\u001b[0m\u001b[0m\n\u001b[1;32m   2529\u001b[0m             \u001b[0;32mif\u001b[0m \u001b[0mlabels\u001b[0m \u001b[0;32mis\u001b[0m \u001b[0;32mnot\u001b[0m \u001b[0mNone\u001b[0m\u001b[0;34m:\u001b[0m\u001b[0;34m\u001b[0m\u001b[0m\n\u001b[0;32m-> 2530\u001b[0;31m                 \u001b[0mobj\u001b[0m \u001b[0;34m=\u001b[0m \u001b[0mobj\u001b[0m\u001b[0;34m.\u001b[0m\u001b[0m_drop_axis\u001b[0m\u001b[0;34m(\u001b[0m\u001b[0mlabels\u001b[0m\u001b[0;34m,\u001b[0m \u001b[0maxis\u001b[0m\u001b[0;34m,\u001b[0m \u001b[0mlevel\u001b[0m\u001b[0;34m=\u001b[0m\u001b[0mlevel\u001b[0m\u001b[0;34m,\u001b[0m \u001b[0merrors\u001b[0m\u001b[0;34m=\u001b[0m\u001b[0merrors\u001b[0m\u001b[0;34m)\u001b[0m\u001b[0;34m\u001b[0m\u001b[0m\n\u001b[0m\u001b[1;32m   2531\u001b[0m \u001b[0;34m\u001b[0m\u001b[0m\n\u001b[1;32m   2532\u001b[0m         \u001b[0;32mif\u001b[0m \u001b[0minplace\u001b[0m\u001b[0;34m:\u001b[0m\u001b[0;34m\u001b[0m\u001b[0m\n",
            "\u001b[0;32m/usr/local/lib/python2.7/dist-packages/pandas/core/generic.pyc\u001b[0m in \u001b[0;36m_drop_axis\u001b[0;34m(self, labels, axis, level, errors)\u001b[0m\n\u001b[1;32m   2560\u001b[0m                 \u001b[0mnew_axis\u001b[0m \u001b[0;34m=\u001b[0m \u001b[0maxis\u001b[0m\u001b[0;34m.\u001b[0m\u001b[0mdrop\u001b[0m\u001b[0;34m(\u001b[0m\u001b[0mlabels\u001b[0m\u001b[0;34m,\u001b[0m \u001b[0mlevel\u001b[0m\u001b[0;34m=\u001b[0m\u001b[0mlevel\u001b[0m\u001b[0;34m,\u001b[0m \u001b[0merrors\u001b[0m\u001b[0;34m=\u001b[0m\u001b[0merrors\u001b[0m\u001b[0;34m)\u001b[0m\u001b[0;34m\u001b[0m\u001b[0m\n\u001b[1;32m   2561\u001b[0m             \u001b[0;32melse\u001b[0m\u001b[0;34m:\u001b[0m\u001b[0;34m\u001b[0m\u001b[0m\n\u001b[0;32m-> 2562\u001b[0;31m                 \u001b[0mnew_axis\u001b[0m \u001b[0;34m=\u001b[0m \u001b[0maxis\u001b[0m\u001b[0;34m.\u001b[0m\u001b[0mdrop\u001b[0m\u001b[0;34m(\u001b[0m\u001b[0mlabels\u001b[0m\u001b[0;34m,\u001b[0m \u001b[0merrors\u001b[0m\u001b[0;34m=\u001b[0m\u001b[0merrors\u001b[0m\u001b[0;34m)\u001b[0m\u001b[0;34m\u001b[0m\u001b[0m\n\u001b[0m\u001b[1;32m   2563\u001b[0m             \u001b[0mdropped\u001b[0m \u001b[0;34m=\u001b[0m \u001b[0mself\u001b[0m\u001b[0;34m.\u001b[0m\u001b[0mreindex\u001b[0m\u001b[0;34m(\u001b[0m\u001b[0;34m**\u001b[0m\u001b[0;34m{\u001b[0m\u001b[0maxis_name\u001b[0m\u001b[0;34m:\u001b[0m \u001b[0mnew_axis\u001b[0m\u001b[0;34m}\u001b[0m\u001b[0;34m)\u001b[0m\u001b[0;34m\u001b[0m\u001b[0m\n\u001b[1;32m   2564\u001b[0m             \u001b[0;32mtry\u001b[0m\u001b[0;34m:\u001b[0m\u001b[0;34m\u001b[0m\u001b[0m\n",
            "\u001b[0;32m/usr/local/lib/python2.7/dist-packages/pandas/core/indexes/base.pyc\u001b[0m in \u001b[0;36mdrop\u001b[0;34m(self, labels, errors)\u001b[0m\n\u001b[1;32m   3742\u001b[0m             \u001b[0;32mif\u001b[0m \u001b[0merrors\u001b[0m \u001b[0;34m!=\u001b[0m \u001b[0;34m'ignore'\u001b[0m\u001b[0;34m:\u001b[0m\u001b[0;34m\u001b[0m\u001b[0m\n\u001b[1;32m   3743\u001b[0m                 raise ValueError('labels %s not contained in axis' %\n\u001b[0;32m-> 3744\u001b[0;31m                                  labels[mask])\n\u001b[0m\u001b[1;32m   3745\u001b[0m             \u001b[0mindexer\u001b[0m \u001b[0;34m=\u001b[0m \u001b[0mindexer\u001b[0m\u001b[0;34m[\u001b[0m\u001b[0;34m~\u001b[0m\u001b[0mmask\u001b[0m\u001b[0;34m]\u001b[0m\u001b[0;34m\u001b[0m\u001b[0m\n\u001b[1;32m   3746\u001b[0m         \u001b[0;32mreturn\u001b[0m \u001b[0mself\u001b[0m\u001b[0;34m.\u001b[0m\u001b[0mdelete\u001b[0m\u001b[0;34m(\u001b[0m\u001b[0mindexer\u001b[0m\u001b[0;34m)\u001b[0m\u001b[0;34m\u001b[0m\u001b[0m\n",
            "\u001b[0;31mValueError\u001b[0m: labels ['Goals'] not contained in axis"
          ]
        }
      ]
    },
    {
      "metadata": {
        "id": "cq9Z9H8UM9tJ",
        "colab_type": "text"
      },
      "cell_type": "markdown",
      "source": [
        "### Step 4. Select only the Goal column."
      ]
    },
    {
      "metadata": {
        "id": "QWub7xq8M9tK",
        "colab_type": "code",
        "colab": {}
      },
      "cell_type": "code",
      "source": [
        ""
      ],
      "execution_count": 0,
      "outputs": []
    },
    {
      "metadata": {
        "id": "anDf_LT6M9tN",
        "colab_type": "text"
      },
      "cell_type": "markdown",
      "source": [
        "### Step 5. How many team participated in the Euro2012?"
      ]
    },
    {
      "metadata": {
        "id": "Ea_EFV5yM9tO",
        "colab_type": "code",
        "colab": {}
      },
      "cell_type": "code",
      "source": [
        ""
      ],
      "execution_count": 0,
      "outputs": []
    },
    {
      "metadata": {
        "id": "hqocDgF9M9tQ",
        "colab_type": "text"
      },
      "cell_type": "markdown",
      "source": [
        "### Step 6. What is the number of columns in the dataset?"
      ]
    },
    {
      "metadata": {
        "id": "49Nqtk51M9tR",
        "colab_type": "code",
        "colab": {}
      },
      "cell_type": "code",
      "source": [
        ""
      ],
      "execution_count": 0,
      "outputs": []
    },
    {
      "metadata": {
        "id": "AYBV-xUtM9tT",
        "colab_type": "text"
      },
      "cell_type": "markdown",
      "source": [
        "### Step 7. View only the columns Team, Yellow Cards and Red Cards and assign them to a dataframe called discipline"
      ]
    },
    {
      "metadata": {
        "id": "IKt12wxMM9tU",
        "colab_type": "code",
        "colab": {}
      },
      "cell_type": "code",
      "source": [
        ""
      ],
      "execution_count": 0,
      "outputs": []
    },
    {
      "metadata": {
        "id": "y1AtbEhXM9tX",
        "colab_type": "text"
      },
      "cell_type": "markdown",
      "source": [
        "### Step 8. Sort the teams by Red Cards, then to Yellow Cards"
      ]
    },
    {
      "metadata": {
        "scrolled": true,
        "id": "SydzVTdCM9tZ",
        "colab_type": "code",
        "colab": {}
      },
      "cell_type": "code",
      "source": [
        ""
      ],
      "execution_count": 0,
      "outputs": []
    },
    {
      "metadata": {
        "id": "frFQUCW8M9ta",
        "colab_type": "text"
      },
      "cell_type": "markdown",
      "source": [
        "### Step 9. Calculate the mean Yellow Cards given per Team"
      ]
    },
    {
      "metadata": {
        "id": "lIJhP0SJM9tc",
        "colab_type": "code",
        "colab": {}
      },
      "cell_type": "code",
      "source": [
        ""
      ],
      "execution_count": 0,
      "outputs": []
    },
    {
      "metadata": {
        "id": "VnU2zzEqM9te",
        "colab_type": "text"
      },
      "cell_type": "markdown",
      "source": [
        "### Step 10. Filter teams that scored more than 6 goals"
      ]
    },
    {
      "metadata": {
        "id": "MlGL4GvqM9tf",
        "colab_type": "code",
        "colab": {}
      },
      "cell_type": "code",
      "source": [
        ""
      ],
      "execution_count": 0,
      "outputs": []
    },
    {
      "metadata": {
        "id": "nib_xlllM9th",
        "colab_type": "text"
      },
      "cell_type": "markdown",
      "source": [
        "### Step 11. Select the teams that start with G"
      ]
    },
    {
      "metadata": {
        "id": "7lkSlyjwM9th",
        "colab_type": "code",
        "colab": {}
      },
      "cell_type": "code",
      "source": [
        ""
      ],
      "execution_count": 0,
      "outputs": []
    },
    {
      "metadata": {
        "id": "LG8yoSwbM9tk",
        "colab_type": "text"
      },
      "cell_type": "markdown",
      "source": [
        "### Step 12. Select the first 7 columns"
      ]
    },
    {
      "metadata": {
        "id": "yAfQ3GPOM9tl",
        "colab_type": "code",
        "colab": {}
      },
      "cell_type": "code",
      "source": [
        ""
      ],
      "execution_count": 0,
      "outputs": []
    },
    {
      "metadata": {
        "id": "x2FbgQBRM9tm",
        "colab_type": "text"
      },
      "cell_type": "markdown",
      "source": [
        "### Step 13. Select all columns except the last 3."
      ]
    },
    {
      "metadata": {
        "id": "6Pn7t4BaM9to",
        "colab_type": "code",
        "colab": {}
      },
      "cell_type": "code",
      "source": [
        ""
      ],
      "execution_count": 0,
      "outputs": []
    },
    {
      "metadata": {
        "id": "btH7GEx9M9tp",
        "colab_type": "text"
      },
      "cell_type": "markdown",
      "source": [
        "### Step 14. Present only the Shooting Accuracy from England, Italy and Russia"
      ]
    },
    {
      "metadata": {
        "id": "t4sY3euRM9tq",
        "colab_type": "code",
        "colab": {}
      },
      "cell_type": "code",
      "source": [
        ""
      ],
      "execution_count": 0,
      "outputs": []
    }
  ]
}