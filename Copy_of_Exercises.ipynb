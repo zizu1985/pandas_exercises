{
  "nbformat": 4,
  "nbformat_minor": 0,
  "metadata": {
    "colab": {
      "name": "Copy of Exercises.ipynb",
      "version": "0.3.2",
      "provenance": [],
      "include_colab_link": true
    },
    "kernelspec": {
      "display_name": "Python [default]",
      "language": "python",
      "name": "python2"
    }
  },
  "cells": [
    {
      "cell_type": "markdown",
      "metadata": {
        "id": "view-in-github",
        "colab_type": "text"
      },
      "source": [
        "<a href=\"https://colab.research.google.com/github/zizu1985/pandas_exercises/blob/master/Copy_of_Exercises.ipynb\" target=\"_parent\"><img src=\"https://colab.research.google.com/assets/colab-badge.svg\" alt=\"Open In Colab\"/></a>"
      ]
    },
    {
      "metadata": {
        "id": "HVDpIYRB7hOC",
        "colab_type": "text"
      },
      "cell_type": "markdown",
      "source": [
        "# Ex2 - Filtering and Sorting Data"
      ]
    },
    {
      "metadata": {
        "id": "39PhY_SG7hOF",
        "colab_type": "text"
      },
      "cell_type": "markdown",
      "source": [
        "This time we are going to pull data directly from the internet.\n",
        "\n",
        "### Step 1. Import the necessary libraries"
      ]
    },
    {
      "metadata": {
        "id": "x1LQZy6l7hOG",
        "colab_type": "code",
        "colab": {}
      },
      "cell_type": "code",
      "source": [
        "import pandas as pd"
      ],
      "execution_count": 0,
      "outputs": []
    },
    {
      "metadata": {
        "id": "7XTs2QGq7hOJ",
        "colab_type": "text"
      },
      "cell_type": "markdown",
      "source": [
        "### Step 2. Import the dataset from this [address](https://raw.githubusercontent.com/guipsamora/pandas_exercises/master/02_Filtering_%26_Sorting/Euro12/Euro_2012_stats_TEAM.csv). "
      ]
    },
    {
      "metadata": {
        "id": "c3mjvCiw7hOL",
        "colab_type": "text"
      },
      "cell_type": "markdown",
      "source": [
        "### Step 3. Assign it to a variable called euro12."
      ]
    },
    {
      "metadata": {
        "id": "1Vte3V3c7hOM",
        "colab_type": "code",
        "outputId": "23d89768-33c1-4a16-b53e-f8d7de277255",
        "colab": {
          "base_uri": "https://localhost:8080/",
          "height": 35
        }
      },
      "cell_type": "code",
      "source": [
        "location = r'https://raw.githubusercontent.com/guipsamora/pandas_exercises/master/02_Filtering_%26_Sorting/Euro12/Euro_2012_stats_TEAM.csv'\n",
        "euro12 = pd.read_csv(location)\n",
        "# type(euro12.values) - numpy.ndarray"
      ],
      "execution_count": 0,
      "outputs": [
        {
          "output_type": "execute_result",
          "data": {
            "text/plain": [
              "numpy.ndarray"
            ]
          },
          "metadata": {
            "tags": []
          },
          "execution_count": 7
        }
      ]
    },
    {
      "metadata": {
        "id": "Q_5vuNC17hOO",
        "colab_type": "text"
      },
      "cell_type": "markdown",
      "source": [
        "### Step 4. Select only the Goal column."
      ]
    },
    {
      "metadata": {
        "id": "AV06W2eN7hOP",
        "colab_type": "code",
        "colab": {}
      },
      "cell_type": "code",
      "source": [
        ""
      ],
      "execution_count": 0,
      "outputs": []
    },
    {
      "metadata": {
        "id": "0aVdJQFV7hOS",
        "colab_type": "text"
      },
      "cell_type": "markdown",
      "source": [
        "### Step 5. How many team participated in the Euro2012?"
      ]
    },
    {
      "metadata": {
        "id": "4JLqGhsj7hOT",
        "colab_type": "code",
        "colab": {}
      },
      "cell_type": "code",
      "source": [
        ""
      ],
      "execution_count": 0,
      "outputs": []
    },
    {
      "metadata": {
        "id": "E200q7iK7hOW",
        "colab_type": "text"
      },
      "cell_type": "markdown",
      "source": [
        "### Step 6. What is the number of columns in the dataset?"
      ]
    },
    {
      "metadata": {
        "id": "1dw9IqtJ7hOX",
        "colab_type": "code",
        "colab": {}
      },
      "cell_type": "code",
      "source": [
        ""
      ],
      "execution_count": 0,
      "outputs": []
    },
    {
      "metadata": {
        "id": "9r4h3Arw7hOZ",
        "colab_type": "text"
      },
      "cell_type": "markdown",
      "source": [
        "### Step 7. View only the columns Team, Yellow Cards and Red Cards and assign them to a dataframe called discipline"
      ]
    },
    {
      "metadata": {
        "id": "a68LdoFW7hOa",
        "colab_type": "code",
        "colab": {}
      },
      "cell_type": "code",
      "source": [
        ""
      ],
      "execution_count": 0,
      "outputs": []
    },
    {
      "metadata": {
        "id": "UAt2Uxuc7hOf",
        "colab_type": "text"
      },
      "cell_type": "markdown",
      "source": [
        "### Step 8. Sort the teams by Red Cards, then to Yellow Cards"
      ]
    },
    {
      "metadata": {
        "scrolled": true,
        "id": "xI1EZxGl7hOh",
        "colab_type": "code",
        "colab": {}
      },
      "cell_type": "code",
      "source": [
        ""
      ],
      "execution_count": 0,
      "outputs": []
    },
    {
      "metadata": {
        "id": "G0Kmq6ic7hOk",
        "colab_type": "text"
      },
      "cell_type": "markdown",
      "source": [
        "### Step 9. Calculate the mean Yellow Cards given per Team"
      ]
    },
    {
      "metadata": {
        "id": "Mn5aftrj7hOl",
        "colab_type": "code",
        "colab": {}
      },
      "cell_type": "code",
      "source": [
        ""
      ],
      "execution_count": 0,
      "outputs": []
    },
    {
      "metadata": {
        "id": "_0m8j4Fw7hOm",
        "colab_type": "text"
      },
      "cell_type": "markdown",
      "source": [
        "### Step 10. Filter teams that scored more than 6 goals"
      ]
    },
    {
      "metadata": {
        "id": "WgGWUv9S7hOo",
        "colab_type": "code",
        "colab": {}
      },
      "cell_type": "code",
      "source": [
        ""
      ],
      "execution_count": 0,
      "outputs": []
    },
    {
      "metadata": {
        "id": "cpmeqkL-7hOp",
        "colab_type": "text"
      },
      "cell_type": "markdown",
      "source": [
        "### Step 11. Select the teams that start with G"
      ]
    },
    {
      "metadata": {
        "id": "3cXSk7et7hOq",
        "colab_type": "code",
        "colab": {}
      },
      "cell_type": "code",
      "source": [
        ""
      ],
      "execution_count": 0,
      "outputs": []
    },
    {
      "metadata": {
        "id": "NRske_TG7hOs",
        "colab_type": "text"
      },
      "cell_type": "markdown",
      "source": [
        "### Step 12. Select the first 7 columns"
      ]
    },
    {
      "metadata": {
        "id": "3zNxh1LD7hOs",
        "colab_type": "code",
        "colab": {}
      },
      "cell_type": "code",
      "source": [
        ""
      ],
      "execution_count": 0,
      "outputs": []
    },
    {
      "metadata": {
        "id": "QJKR9Js57hOv",
        "colab_type": "text"
      },
      "cell_type": "markdown",
      "source": [
        "### Step 13. Select all columns except the last 3."
      ]
    },
    {
      "metadata": {
        "id": "TcJZnrno7hOv",
        "colab_type": "code",
        "colab": {}
      },
      "cell_type": "code",
      "source": [
        ""
      ],
      "execution_count": 0,
      "outputs": []
    },
    {
      "metadata": {
        "id": "WhEAV-vK7hOy",
        "colab_type": "text"
      },
      "cell_type": "markdown",
      "source": [
        "### Step 14. Present only the Shooting Accuracy from England, Italy and Russia"
      ]
    },
    {
      "metadata": {
        "id": "6aju9RDb7hOz",
        "colab_type": "code",
        "colab": {}
      },
      "cell_type": "code",
      "source": [
        ""
      ],
      "execution_count": 0,
      "outputs": []
    }
  ]
}